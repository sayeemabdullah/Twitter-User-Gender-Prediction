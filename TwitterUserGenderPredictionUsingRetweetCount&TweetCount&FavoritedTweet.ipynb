{
  "nbformat": 4,
  "nbformat_minor": 0,
  "metadata": {
    "colab": {
      "name": "TwitterUserGenderPredictionUsingRetweetCount&TweetCount&FavoritedTweet.ipynb",
      "provenance": [],
      "collapsed_sections": [],
      "authorship_tag": "ABX9TyOy4eD7nzxDL665Ydvmrz0D",
      "include_colab_link": true
    },
    "kernelspec": {
      "name": "python3",
      "display_name": "Python 3"
    }
  },
  "cells": [
    {
      "cell_type": "markdown",
      "metadata": {
        "id": "view-in-github",
        "colab_type": "text"
      },
      "source": [
        "<a href=\"https://colab.research.google.com/github/sayeemabdullah/Twitter-User-Gender-Prediction/blob/main/TwitterUserGenderPredictionUsingRetweetCount%26TweetCount%26FavoritedTweet.ipynb\" target=\"_parent\"><img src=\"https://colab.research.google.com/assets/colab-badge.svg\" alt=\"Open In Colab\"/></a>"
      ]
    },
    {
      "cell_type": "code",
      "metadata": {
        "id": "CVR2k2A3cIAB"
      },
      "source": [
        "# https://www.kaggle.com/crowdflower/twitter-user-gender-classification\r\n",
        "\r\n",
        "# unitid: a unique id for user\r\n",
        "# _golden: whether the user was included in the gold standard for the model; TRUE or FALSE\r\n",
        "# unitstate: state of the observation; one of finalized (for contributor-judged) or golden (for gold standard observations)\r\n",
        "# trustedjudgments: number of trusted judgments (int); always 3 for non-golden, and what may be a unique id for gold standard observations\r\n",
        "# lastjudgment_at: date and time of last contributor judgment; blank for gold standard observations\r\n",
        "# gender: one of male, female, or brand (for non-human profiles)\r\n",
        "# gender:confidence: a float representing confidence in the provided gender\r\n",
        "# profile_yn: \"no\" here seems to mean that the profile was meant to be part of the dataset but was not available when contributors went to judge it\r\n",
        "# profile_yn:confidence: confidence in the existence/non-existence of the profile\r\n",
        "# created: date and time when the profile was created\r\n",
        "# description: the user's profile description\r\n",
        "# fav_number: number of tweets the user has favorited\r\n",
        "# gender_gold: if the profile is golden, what is the gender?\r\n",
        "# link_color: the link color on the profile, as a hex value\r\n",
        "# name: the user's name\r\n",
        "# profileyngold: whether the profile y/n value is golden\r\n",
        "# profileimage: a link to the profile image\r\n",
        "# retweet_count: number of times the user has retweeted (or possibly, been retweeted)\r\n",
        "# sidebar_color: color of the profile sidebar, as a hex value\r\n",
        "# text: text of a random one of the user's tweets\r\n",
        "# tweet_coord: if the user has location turned on, the coordinates as a string with the format \"[latitude, longitude]\"\r\n",
        "# tweet_count: number of tweets that the user has posted\r\n",
        "# tweet_created: when the random tweet (in the text column) was created\r\n",
        "# tweet_id: the tweet id of the random tweet\r\n",
        "# tweet_location: location of the tweet; seems to not be particularly normalized\r\n",
        "# user_timezone: the timezone of the user"
      ],
      "execution_count": 57,
      "outputs": []
    },
    {
      "cell_type": "code",
      "metadata": {
        "colab": {
          "base_uri": "https://localhost:8080/"
        },
        "id": "tRptTa_K0WJT",
        "outputId": "f0aeb0a1-4ecd-4ecd-8c2b-fa79359cfc61"
      },
      "source": [
        "import pandas as pd\r\n",
        "\r\n",
        "url = 'https://raw.githubusercontent.com/sayeemabdullah/Twitter-User-Gender-Prediction/main/Dataset/gender-classifier-DFE-791531.csv'\r\n",
        "\r\n",
        "df = pd.read_csv(url,encoding = \"ISO-8859-1\")\r\n",
        "\r\n",
        "print(df.columns)\r\n",
        "\r\n",
        "df.drop(['_unit_id', '_golden', '_unit_state', '_trusted_judgments',\r\n",
        "       '_last_judgment_at','gender:confidence', 'profile_yn',\r\n",
        "       'profile_yn:confidence','gender_gold','profile_yn_gold', 'profileimage',\r\n",
        "       'tweet_id', 'tweet_location', 'user_timezone'], axis='columns', inplace=True)\r\n",
        "\r\n",
        "print(df.columns)"
      ],
      "execution_count": 58,
      "outputs": [
        {
          "output_type": "stream",
          "text": [
            "Index(['_unit_id', '_golden', '_unit_state', '_trusted_judgments',\n",
            "       '_last_judgment_at', 'gender', 'gender:confidence', 'profile_yn',\n",
            "       'profile_yn:confidence', 'created', 'description', 'fav_number',\n",
            "       'gender_gold', 'link_color', 'name', 'profile_yn_gold', 'profileimage',\n",
            "       'retweet_count', 'sidebar_color', 'text', 'tweet_coord', 'tweet_count',\n",
            "       'tweet_created', 'tweet_id', 'tweet_location', 'user_timezone'],\n",
            "      dtype='object')\n",
            "Index(['gender', 'created', 'description', 'fav_number', 'link_color', 'name',\n",
            "       'retweet_count', 'sidebar_color', 'text', 'tweet_coord', 'tweet_count',\n",
            "       'tweet_created'],\n",
            "      dtype='object')\n"
          ],
          "name": "stdout"
        }
      ]
    },
    {
      "cell_type": "code",
      "metadata": {
        "colab": {
          "base_uri": "https://localhost:8080/"
        },
        "id": "R-5MDH1y4bd9",
        "outputId": "3ffb7fad-68ee-4ec0-e902-3175c2b8230e"
      },
      "source": [
        "def findGenderStatus():\r\n",
        "  male = 0\r\n",
        "  female = 0\r\n",
        "  brand = 0\r\n",
        "  other = 0\r\n",
        "\r\n",
        "  for i in range(len(df.gender)):\r\n",
        "    if df.gender[i] == \"male\":\r\n",
        "      male = male + 1\r\n",
        "    elif df.gender[i] == \"female\":\r\n",
        "      female = female + 1\r\n",
        "    elif df.gender[i] == \"brand\":\r\n",
        "      brand = brand + 1\r\n",
        "    else:\r\n",
        "      other = other + 1\r\n",
        "\r\n",
        "  print(\"Male: \" , male)\r\n",
        "  print(\"Female: \" ,female)\r\n",
        "  print(\"Brand: \" ,brand)\r\n",
        "  print(\"Other: \" ,other)\r\n",
        "\r\n",
        "\r\n",
        "  print(df.gender)\r\n",
        "\r\n",
        "findGenderStatus()"
      ],
      "execution_count": 59,
      "outputs": [
        {
          "output_type": "stream",
          "text": [
            "Male:  6194\n",
            "Female:  6700\n",
            "Brand:  5942\n",
            "Other:  1214\n",
            "0          male\n",
            "1          male\n",
            "2          male\n",
            "3          male\n",
            "4        female\n",
            "          ...  \n",
            "20045    female\n",
            "20046      male\n",
            "20047      male\n",
            "20048    female\n",
            "20049    female\n",
            "Name: gender, Length: 20050, dtype: object\n"
          ],
          "name": "stdout"
        }
      ]
    },
    {
      "cell_type": "code",
      "metadata": {
        "colab": {
          "base_uri": "https://localhost:8080/"
        },
        "id": "CT8fBk_G6oFr",
        "outputId": "040b8cfc-546a-4736-fc89-3c9f472bedf9"
      },
      "source": [
        "df.drop(df.index[(df['gender'] != 'male') & (df['gender'] != 'female')  & (df['gender'] != 'brand')], inplace = True)\r\n",
        "df.reset_index(drop=True, inplace=True)\r\n",
        "\r\n",
        "findGenderStatus()"
      ],
      "execution_count": 60,
      "outputs": [
        {
          "output_type": "stream",
          "text": [
            "Male:  6194\n",
            "Female:  6700\n",
            "Brand:  5942\n",
            "Other:  0\n",
            "0          male\n",
            "1          male\n",
            "2          male\n",
            "3          male\n",
            "4        female\n",
            "          ...  \n",
            "18831    female\n",
            "18832      male\n",
            "18833      male\n",
            "18834    female\n",
            "18835    female\n",
            "Name: gender, Length: 18836, dtype: object\n"
          ],
          "name": "stdout"
        }
      ]
    },
    {
      "cell_type": "code",
      "metadata": {
        "id": "IVlUpIN8UbUP"
      },
      "source": [
        "target_list = df['gender'].tolist()\r\n",
        "\r\n",
        "for i in range(len(df.gender)):\r\n",
        "  if df.gender[i] == \"male\":\r\n",
        "    target_list[i] = 1\r\n",
        "  elif df.gender[i] == \"female\":\r\n",
        "    target_list[i] = 2\r\n",
        "  else:\r\n",
        "    target_list[i] = 3\r\n",
        "\r\n",
        "df['Gender_Code'] = target_list"
      ],
      "execution_count": 61,
      "outputs": []
    },
    {
      "cell_type": "code",
      "metadata": {
        "colab": {
          "base_uri": "https://localhost:8080/",
          "height": 296
        },
        "id": "AWpcTMtanjhL",
        "outputId": "0c247b98-904c-44c9-c3b7-17f9e699ffb2"
      },
      "source": [
        "import seaborn as sb\r\n",
        "sb.barplot (x = 'gender', y = 'tweet_count',data = df)"
      ],
      "execution_count": 62,
      "outputs": [
        {
          "output_type": "execute_result",
          "data": {
            "text/plain": [
              "<matplotlib.axes._subplots.AxesSubplot at 0x7fbb2757c2b0>"
            ]
          },
          "metadata": {
            "tags": []
          },
          "execution_count": 62
        },
        {
          "output_type": "display_data",
          "data": {
            "image/png": "[encoded data removed]",
            "text/plain": [
              "<Figure size 432x288 with 1 Axes>"
            ]
          },
          "metadata": {
            "tags": [],
            "needs_background": "light"
          }
        }
      ]
    },
    {
      "cell_type": "code",
      "metadata": {
        "colab": {
          "base_uri": "https://localhost:8080/",
          "height": 296
        },
        "id": "LQnKNCpGn7vj",
        "outputId": "c91d5bec-9b51-4d02-c3a7-48e5b189ae12"
      },
      "source": [
        "sb.barplot (x = 'gender', y = 'retweet_count',data = df)"
      ],
      "execution_count": 63,
      "outputs": [
        {
          "output_type": "execute_result",
          "data": {
            "text/plain": [
              "<matplotlib.axes._subplots.AxesSubplot at 0x7fbb269f3320>"
            ]
          },
          "metadata": {
            "tags": []
          },
          "execution_count": 63
        },
        {
          "output_type": "display_data",
          "data": {
            "image/png": "[encoded data removed]",
            "text/plain": [
              "<Figure size 432x288 with 1 Axes>"
            ]
          },
          "metadata": {
            "tags": [],
            "needs_background": "light"
          }
        }
      ]
    },
    {
      "cell_type": "code",
      "metadata": {
        "colab": {
          "base_uri": "https://localhost:8080/",
          "height": 296
        },
        "id": "KV99BipsoFxL",
        "outputId": "fc0d6f01-dc52-44e2-a746-143c7ac077c2"
      },
      "source": [
        "sb.barplot (x = 'gender', y = 'fav_number',data = df)"
      ],
      "execution_count": 64,
      "outputs": [
        {
          "output_type": "execute_result",
          "data": {
            "text/plain": [
              "<matplotlib.axes._subplots.AxesSubplot at 0x7fbb27c5a710>"
            ]
          },
          "metadata": {
            "tags": []
          },
          "execution_count": 64
        },
        {
          "output_type": "display_data",
          "data": {
            "image/png": "[encoded data removed]",
            "text/plain": [
              "<Figure size 432x288 with 1 Axes>"
            ]
          },
          "metadata": {
            "tags": [],
            "needs_background": "light"
          }
        }
      ]
    },
    {
      "cell_type": "code",
      "metadata": {
        "colab": {
          "base_uri": "https://localhost:8080/"
        },
        "id": "vgFZTiz4VplG",
        "outputId": "e3f05b53-6769-439d-8add-5f8a48b8c02b"
      },
      "source": [
        "df.drop(['gender'], axis='columns', inplace=True)\r\n",
        "\r\n",
        "print(df.columns)\r\n",
        "\r\n",
        "\r\n",
        "df.info()"
      ],
      "execution_count": 65,
      "outputs": [
        {
          "output_type": "stream",
          "text": [
            "Index(['created', 'description', 'fav_number', 'link_color', 'name',\n",
            "       'retweet_count', 'sidebar_color', 'text', 'tweet_coord', 'tweet_count',\n",
            "       'tweet_created', 'Gender_Code'],\n",
            "      dtype='object')\n",
            "<class 'pandas.core.frame.DataFrame'>\n",
            "RangeIndex: 18836 entries, 0 to 18835\n",
            "Data columns (total 12 columns):\n",
            " #   Column         Non-Null Count  Dtype \n",
            "---  ------         --------------  ----- \n",
            " 0   created        18836 non-null  object\n",
            " 1   description    15522 non-null  object\n",
            " 2   fav_number     18836 non-null  int64 \n",
            " 3   link_color     18836 non-null  object\n",
            " 4   name           18836 non-null  object\n",
            " 5   retweet_count  18836 non-null  int64 \n",
            " 6   sidebar_color  18836 non-null  object\n",
            " 7   text           18836 non-null  object\n",
            " 8   tweet_coord    157 non-null    object\n",
            " 9   tweet_count    18836 non-null  int64 \n",
            " 10  tweet_created  18836 non-null  object\n",
            " 11  Gender_Code    18836 non-null  int64 \n",
            "dtypes: int64(4), object(8)\n",
            "memory usage: 1.7+ MB\n"
          ],
          "name": "stdout"
        }
      ]
    },
    {
      "cell_type": "code",
      "metadata": {
        "colab": {
          "base_uri": "https://localhost:8080/"
        },
        "id": "u1Wn-k-bnyW1",
        "outputId": "e7ec3ed1-2638-4c41-af68-e187000cc918"
      },
      "source": [
        "df.drop(['created', 'description','link_color', 'name',\r\n",
        "       'sidebar_color', 'text', 'tweet_coord',\r\n",
        "       'tweet_created'], axis='columns', inplace=True)\r\n",
        "\r\n",
        "print(df.columns)"
      ],
      "execution_count": 66,
      "outputs": [
        {
          "output_type": "stream",
          "text": [
            "Index(['fav_number', 'retweet_count', 'tweet_count', 'Gender_Code'], dtype='object')\n"
          ],
          "name": "stdout"
        }
      ]
    },
    {
      "cell_type": "code",
      "metadata": {
        "colab": {
          "base_uri": "https://localhost:8080/"
        },
        "id": "si2XS95jLCFA",
        "outputId": "a3af6097-e394-4cb0-ae6b-bbd9db6ba0d1"
      },
      "source": [
        "x = df.drop('Gender_Code',axis=1).values\r\n",
        "y = df['Gender_Code'].values\r\n",
        "\r\n",
        "from sklearn.model_selection import train_test_split\r\n",
        "x_train, x_test, y_train, y_test = train_test_split(x, y, test_size=0.3, random_state=42)\r\n",
        "\r\n",
        "from sklearn.tree import DecisionTreeClassifier \r\n",
        "\r\n",
        "\r\n",
        "clf = DecisionTreeClassifier()\r\n",
        "clf = clf.fit(x_train,y_train)\r\n",
        "y_pred = clf.predict(x_test)\r\n",
        "\r\n",
        "from sklearn import metrics\r\n",
        "print(\"Accuracy:\",metrics.accuracy_score(y_test, y_pred))"
      ],
      "execution_count": 67,
      "outputs": [
        {
          "output_type": "stream",
          "text": [
            "Accuracy: 0.45478676340470714\n"
          ],
          "name": "stdout"
        }
      ]
    },
    {
      "cell_type": "code",
      "metadata": {
        "colab": {
          "base_uri": "https://localhost:8080/"
        },
        "id": "l6NwRYnecSky",
        "outputId": "3147ad77-c4a1-47ca-998c-0897a0854677"
      },
      "source": [
        "x = df.drop('Gender_Code',axis=1).values\r\n",
        "y = df['Gender_Code'].values\r\n",
        "\r\n",
        "from sklearn.model_selection import train_test_split\r\n",
        "x_train, x_test, y_train, y_test = train_test_split(x, y, test_size=0.3, random_state=42)\r\n",
        "\r\n",
        "\r\n",
        "from sklearn.ensemble import RandomForestClassifier\r\n",
        "\r\n",
        "clf=RandomForestClassifier(n_estimators=50)\r\n",
        "clf.fit(x_train,y_train)\r\n",
        "y_pred=clf.predict(x_test)\r\n",
        "\r\n",
        "from sklearn import metrics\r\n",
        "print(\"Accuracy:\",metrics.accuracy_score(y_test, y_pred))"
      ],
      "execution_count": 68,
      "outputs": [
        {
          "output_type": "stream",
          "text": [
            "Accuracy: 0.47531410369846044\n"
          ],
          "name": "stdout"
        }
      ]
    },
    {
      "cell_type": "code",
      "metadata": {
        "colab": {
          "base_uri": "https://localhost:8080/"
        },
        "id": "3V2c6B2vc-pe",
        "outputId": "39a73829-a093-4aa5-a2f5-d799a00f7d5c"
      },
      "source": [
        "x = df.drop('Gender_Code',axis=1).values\r\n",
        "y = df['Gender_Code'].values\r\n",
        "\r\n",
        "from sklearn.model_selection import train_test_split\r\n",
        "x_train, x_test, y_train, y_test = train_test_split(x, y, test_size=0.3, random_state=42)\r\n",
        "\r\n",
        "\r\n",
        "from sklearn.neighbors import KNeighborsClassifier\r\n",
        "\r\n",
        "knn = KNeighborsClassifier(n_neighbors=1)\r\n",
        "knn.fit(x_train, y_train)\r\n",
        "y_pred = knn.predict(x_test)\r\n",
        "\r\n",
        "from sklearn import metrics\r\n",
        "print(\"Accuracy:\",metrics.accuracy_score(y_test, y_pred))"
      ],
      "execution_count": 69,
      "outputs": [
        {
          "output_type": "stream",
          "text": [
            "Accuracy: 0.4501858078216245\n"
          ],
          "name": "stdout"
        }
      ]
    }
  ]
}