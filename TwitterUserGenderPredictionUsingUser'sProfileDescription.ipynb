{
  "nbformat": 4,
  "nbformat_minor": 0,
  "metadata": {
    "colab": {
      "name": "TwitterUserGenderPredictionUsingUser'sProfileDescription.ipynb",
      "provenance": [],
      "authorship_tag": "ABX9TyO6EbdBiJjBONdbq5YviTCX",
      "include_colab_link": true
    },
    "kernelspec": {
      "name": "python3",
      "display_name": "Python 3"
    }
  },
  "cells": [
    {
      "cell_type": "markdown",
      "metadata": {
        "id": "view-in-github",
        "colab_type": "text"
      },
      "source": [
        "<a href=\"https://colab.research.google.com/github/sayeemabdullah/Twitter-User-Gender-Prediction/blob/main/TwitterUserGenderPredictionUsingUser'sProfileDescription.ipynb\" target=\"_parent\"><img src=\"https://colab.research.google.com/assets/colab-badge.svg\" alt=\"Open In Colab\"/></a>"
      ]
    },
    {
      "cell_type": "code",
      "metadata": {
        "id": "KEpvuGAM4f4t"
      },
      "source": [
        "# https://www.kaggle.com/crowdflower/twitter-user-gender-classification\r\n",
        "\r\n",
        "# unitid: a unique id for user\r\n",
        "# _golden: whether the user was included in the gold standard for the model; TRUE or FALSE\r\n",
        "# unitstate: state of the observation; one of finalized (for contributor-judged) or golden (for gold standard observations)\r\n",
        "# trustedjudgments: number of trusted judgments (int); always 3 for non-golden, and what may be a unique id for gold standard observations\r\n",
        "# lastjudgment_at: date and time of last contributor judgment; blank for gold standard observations\r\n",
        "# gender: one of male, female, or brand (for non-human profiles)\r\n",
        "# gender:confidence: a float representing confidence in the provided gender\r\n",
        "# profile_yn: \"no\" here seems to mean that the profile was meant to be part of the dataset but was not available when contributors went to judge it\r\n",
        "# profile_yn:confidence: confidence in the existence/non-existence of the profile\r\n",
        "# created: date and time when the profile was created\r\n",
        "# description: the user's profile description\r\n",
        "# fav_number: number of tweets the user has favorited\r\n",
        "# gender_gold: if the profile is golden, what is the gender?\r\n",
        "# link_color: the link color on the profile, as a hex value\r\n",
        "# name: the user's name\r\n",
        "# profileyngold: whether the profile y/n value is golden\r\n",
        "# profileimage: a link to the profile image\r\n",
        "# retweet_count: number of times the user has retweeted (or possibly, been retweeted)\r\n",
        "# sidebar_color: color of the profile sidebar, as a hex value\r\n",
        "# text: text of a random one of the user's tweets\r\n",
        "# tweet_coord: if the user has location turned on, the coordinates as a string with the format \"[latitude, longitude]\"\r\n",
        "# tweet_count: number of tweets that the user has posted\r\n",
        "# tweet_created: when the random tweet (in the text column) was created\r\n",
        "# tweet_id: the tweet id of the random tweet\r\n",
        "# tweet_location: location of the tweet; seems to not be particularly normalized\r\n",
        "# user_timezone: the timezone of the user"
      ],
      "execution_count": 146,
      "outputs": []
    },
    {
      "cell_type": "code",
      "metadata": {
        "colab": {
          "base_uri": "https://localhost:8080/"
        },
        "id": "BDz7y5NM5Ilc",
        "outputId": "c389f365-2c6f-4e18-c89a-8b19d09e61dc"
      },
      "source": [
        "import pandas as pd\r\n",
        "\r\n",
        "url = 'https://raw.githubusercontent.com/sayeemabdullah/Twitter-User-Gender-Prediction/main/Dataset/gender-classifier-DFE-791531.csv'\r\n",
        "\r\n",
        "df = pd.read_csv(url,encoding = \"ISO-8859-1\")\r\n",
        "\r\n",
        "print(df.columns)\r\n",
        "\r\n",
        "df.drop(['_unit_id', '_golden', '_unit_state', '_trusted_judgments',\r\n",
        "       '_last_judgment_at', 'gender:confidence', 'profile_yn',\r\n",
        "       'profile_yn:confidence', 'created', 'fav_number',\r\n",
        "       'gender_gold', 'link_color', 'name', 'profile_yn_gold', 'profileimage',\r\n",
        "       'retweet_count', 'sidebar_color', 'text', 'tweet_coord', 'tweet_count',\r\n",
        "       'tweet_created', 'tweet_id', 'tweet_location', 'user_timezone'], axis='columns', inplace=True)\r\n",
        "\r\n",
        "print(df.columns)"
      ],
      "execution_count": 147,
      "outputs": [
        {
          "output_type": "stream",
          "text": [
            "Index(['_unit_id', '_golden', '_unit_state', '_trusted_judgments',\n",
            "       '_last_judgment_at', 'gender', 'gender:confidence', 'profile_yn',\n",
            "       'profile_yn:confidence', 'created', 'description', 'fav_number',\n",
            "       'gender_gold', 'link_color', 'name', 'profile_yn_gold', 'profileimage',\n",
            "       'retweet_count', 'sidebar_color', 'text', 'tweet_coord', 'tweet_count',\n",
            "       'tweet_created', 'tweet_id', 'tweet_location', 'user_timezone'],\n",
            "      dtype='object')\n",
            "Index(['gender', 'description'], dtype='object')\n"
          ],
          "name": "stdout"
        }
      ]
    },
    {
      "cell_type": "code",
      "metadata": {
        "colab": {
          "base_uri": "https://localhost:8080/"
        },
        "id": "CvQhufvvSpeM",
        "outputId": "a67d380f-9f68-4668-b8fc-ebbd145cccab"
      },
      "source": [
        "df.info()"
      ],
      "execution_count": 148,
      "outputs": [
        {
          "output_type": "stream",
          "text": [
            "<class 'pandas.core.frame.DataFrame'>\n",
            "RangeIndex: 20050 entries, 0 to 20049\n",
            "Data columns (total 2 columns):\n",
            " #   Column       Non-Null Count  Dtype \n",
            "---  ------       --------------  ----- \n",
            " 0   gender       19953 non-null  object\n",
            " 1   description  16306 non-null  object\n",
            "dtypes: object(2)\n",
            "memory usage: 313.4+ KB\n"
          ],
          "name": "stdout"
        }
      ]
    },
    {
      "cell_type": "code",
      "metadata": {
        "id": "NunDcQdoRZVa"
      },
      "source": [
        "df.drop(df.index[(df['gender'] != 'male') & (df['gender'] != 'female')  & (df['gender'] != 'brand')], inplace = True)\r\n",
        "df.reset_index(drop=True, inplace=True)"
      ],
      "execution_count": 149,
      "outputs": []
    },
    {
      "cell_type": "code",
      "metadata": {
        "colab": {
          "base_uri": "https://localhost:8080/"
        },
        "id": "CgsUHQ0DSSTP",
        "outputId": "17311634-3daf-429c-9ea5-08069c4a3980"
      },
      "source": [
        "df.info()"
      ],
      "execution_count": 150,
      "outputs": [
        {
          "output_type": "stream",
          "text": [
            "<class 'pandas.core.frame.DataFrame'>\n",
            "RangeIndex: 18836 entries, 0 to 18835\n",
            "Data columns (total 2 columns):\n",
            " #   Column       Non-Null Count  Dtype \n",
            "---  ------       --------------  ----- \n",
            " 0   gender       18836 non-null  object\n",
            " 1   description  15522 non-null  object\n",
            "dtypes: object(2)\n",
            "memory usage: 294.4+ KB\n"
          ],
          "name": "stdout"
        }
      ]
    },
    {
      "cell_type": "code",
      "metadata": {
        "id": "XxnortgvS0yw"
      },
      "source": [
        "df.dropna(inplace=True)\r\n",
        "df.reset_index(drop=True, inplace=True)"
      ],
      "execution_count": 151,
      "outputs": []
    },
    {
      "cell_type": "code",
      "metadata": {
        "colab": {
          "base_uri": "https://localhost:8080/"
        },
        "id": "kFYCMZvzS9nw",
        "outputId": "126edf2e-7567-48d2-e558-eadd2d57518a"
      },
      "source": [
        "df.info()"
      ],
      "execution_count": 152,
      "outputs": [
        {
          "output_type": "stream",
          "text": [
            "<class 'pandas.core.frame.DataFrame'>\n",
            "RangeIndex: 15522 entries, 0 to 15521\n",
            "Data columns (total 2 columns):\n",
            " #   Column       Non-Null Count  Dtype \n",
            "---  ------       --------------  ----- \n",
            " 0   gender       15522 non-null  object\n",
            " 1   description  15522 non-null  object\n",
            "dtypes: object(2)\n",
            "memory usage: 242.7+ KB\n"
          ],
          "name": "stdout"
        }
      ]
    },
    {
      "cell_type": "code",
      "metadata": {
        "colab": {
          "base_uri": "https://localhost:8080/",
          "height": 354
        },
        "id": "1uAyxxwrXCYw",
        "outputId": "baaeed93-4bf6-44bf-a355-d57f658980c3"
      },
      "source": [
        "import seaborn as sb\r\n",
        "\r\n",
        "sb.countplot(df['gender'])"
      ],
      "execution_count": 161,
      "outputs": [
        {
          "output_type": "stream",
          "text": [
            "/usr/local/lib/python3.6/dist-packages/seaborn/_decorators.py:43: FutureWarning: Pass the following variable as a keyword arg: x. From version 0.12, the only valid positional argument will be `data`, and passing other arguments without an explicit keyword will result in an error or misinterpretation.\n",
            "  FutureWarning\n"
          ],
          "name": "stderr"
        },
        {
          "output_type": "execute_result",
          "data": {
            "text/plain": [
              "<matplotlib.axes._subplots.AxesSubplot at 0x7f494c71bf28>"
            ]
          },
          "metadata": {
            "tags": []
          },
          "execution_count": 161
        },
        {
          "output_type": "display_data",
          "data": {
            "image/png": "[encoded data removed]",
            "text/plain": [
              "<Figure size 432x288 with 1 Axes>"
            ]
          },
          "metadata": {
            "tags": [],
            "needs_background": "light"
          }
        }
      ]
    },
    {
      "cell_type": "code",
      "metadata": {
        "id": "iV0B-_lgUvYy"
      },
      "source": [
        "target_list = df['gender'].tolist()\r\n",
        "\r\n",
        "for i in range(len(df.gender)):\r\n",
        "  if df.gender[i] == \"male\":\r\n",
        "    target_list[i] = 1\r\n",
        "  elif df.gender[i] == \"female\":\r\n",
        "    target_list[i] = 2\r\n",
        "  else:\r\n",
        "    target_list[i] = 3\r\n",
        "\r\n",
        "df['gender_code'] = target_list"
      ],
      "execution_count": 154,
      "outputs": []
    },
    {
      "cell_type": "code",
      "metadata": {
        "colab": {
          "base_uri": "https://localhost:8080/"
        },
        "id": "t4pMF5CUWjy6",
        "outputId": "ec97fb8c-14a7-444d-e26c-d7100a7d873e"
      },
      "source": [
        "df.info()"
      ],
      "execution_count": 155,
      "outputs": [
        {
          "output_type": "stream",
          "text": [
            "<class 'pandas.core.frame.DataFrame'>\n",
            "RangeIndex: 15522 entries, 0 to 15521\n",
            "Data columns (total 3 columns):\n",
            " #   Column       Non-Null Count  Dtype \n",
            "---  ------       --------------  ----- \n",
            " 0   gender       15522 non-null  object\n",
            " 1   description  15522 non-null  object\n",
            " 2   gender_code  15522 non-null  int64 \n",
            "dtypes: int64(1), object(2)\n",
            "memory usage: 363.9+ KB\n"
          ],
          "name": "stdout"
        }
      ]
    },
    {
      "cell_type": "code",
      "metadata": {
        "colab": {
          "base_uri": "https://localhost:8080/",
          "height": 195
        },
        "id": "_T1U6JJsW2mD",
        "outputId": "337cab81-bbfb-45df-d619-52ce9803dd36"
      },
      "source": [
        "import re\r\n",
        "def cleaning(s):\r\n",
        "    s = str(s)\r\n",
        "    s = s.lower()\r\n",
        "    s = s.replace(\",\",\"\")\r\n",
        "    s = re.sub('[!@#$_]', '', s)\r\n",
        "    s = re.sub('\\W,\\s',' ',s)\r\n",
        "    s = re.sub(r'[^\\w]', ' ', s)\r\n",
        "    s = re.sub('\\s\\W',' ',s)\r\n",
        "    s = re.sub(\"\\d+\", \"\", s)\r\n",
        "    s = re.sub('\\s+',' ',s)\r\n",
        "    s = s.replace(\"co\",\"\")\r\n",
        "    s = s.replace(\"https\",\"\")\r\n",
        "    s = s.replace(\"[\\w*\",\" \")\r\n",
        "    return s\r\n",
        "\r\n",
        "df['description'] = [cleaning(s) for s in df['description']]\r\n",
        "df.tail()"
      ],
      "execution_count": 156,
      "outputs": [
        {
          "output_type": "execute_result",
          "data": {
            "text/html": [
              "<div>\n",
              "<style scoped>\n",
              "    .dataframe tbody tr th:only-of-type {\n",
              "        vertical-align: middle;\n",
              "    }\n",
              "\n",
              "    .dataframe tbody tr th {\n",
              "        vertical-align: top;\n",
              "    }\n",
              "\n",
              "    .dataframe thead th {\n",
              "        text-align: right;\n",
              "    }\n",
              "</style>\n",
              "<table border=\"1\" class=\"dataframe\">\n",
              "  <thead>\n",
              "    <tr style=\"text-align: right;\">\n",
              "      <th></th>\n",
              "      <th>gender</th>\n",
              "      <th>description</th>\n",
              "      <th>gender_code</th>\n",
              "    </tr>\n",
              "  </thead>\n",
              "  <tbody>\n",
              "    <tr>\n",
              "      <th>15517</th>\n",
              "      <td>female</td>\n",
              "      <td>rp</td>\n",
              "      <td>2</td>\n",
              "    </tr>\n",
              "    <tr>\n",
              "      <th>15518</th>\n",
              "      <td>male</td>\n",
              "      <td>whatever you like it s not a problem at all ch...</td>\n",
              "      <td>1</td>\n",
              "    </tr>\n",
              "    <tr>\n",
              "      <th>15519</th>\n",
              "      <td>male</td>\n",
              "      <td>teambarcelona you look lost so you should foll...</td>\n",
              "      <td>1</td>\n",
              "    </tr>\n",
              "    <tr>\n",
              "      <th>15520</th>\n",
              "      <td>female</td>\n",
              "      <td>anti statist i homeschool my kids aspiring tho...</td>\n",
              "      <td>2</td>\n",
              "    </tr>\n",
              "    <tr>\n",
              "      <th>15521</th>\n",
              "      <td>female</td>\n",
              "      <td>teamwork makes the dream work</td>\n",
              "      <td>2</td>\n",
              "    </tr>\n",
              "  </tbody>\n",
              "</table>\n",
              "</div>"
            ],
            "text/plain": [
              "       gender                                        description  gender_code\n",
              "15517  female                                                rp             2\n",
              "15518    male  whatever you like it s not a problem at all ch...            1\n",
              "15519    male  teambarcelona you look lost so you should foll...            1\n",
              "15520  female  anti statist i homeschool my kids aspiring tho...            2\n",
              "15521  female                     teamwork makes the dream work             2"
            ]
          },
          "metadata": {
            "tags": []
          },
          "execution_count": 156
        }
      ]
    },
    {
      "cell_type": "code",
      "metadata": {
        "id": "gGiCNcTDmL5e"
      },
      "source": [
        "from nltk.stem import PorterStemmer\r\n",
        "\r\n",
        "porter = PorterStemmer()\r\n",
        "\r\n",
        "def tokenizer(text_description): \r\n",
        "    return text_description.split()\r\n",
        "\r\n",
        "def tokenizer_porter(text_description):\r\n",
        "    return [porter.stem(word) for word in text_description.split()]"
      ],
      "execution_count": 157,
      "outputs": []
    },
    {
      "cell_type": "code",
      "metadata": {
        "colab": {
          "base_uri": "https://localhost:8080/"
        },
        "id": "QcEsweZolXLq",
        "outputId": "85bdbcc6-a5d0-48f0-8197-3a245a212f80"
      },
      "source": [
        "x = df['description'].values\r\n",
        "y = df['gender_code'].values\r\n",
        "\r\n",
        "from sklearn.model_selection import train_test_split\r\n",
        "x_train, x_test, y_train, y_test = train_test_split(x, y, test_size=0.3, random_state=42)\r\n",
        "\r\n",
        "\r\n",
        "from sklearn.linear_model import LogisticRegression\r\n",
        "from sklearn.pipeline import Pipeline\r\n",
        "from sklearn.feature_extraction.text import TfidfVectorizer\r\n",
        "from sklearn.metrics import accuracy_score\r\n",
        "\r\n",
        "tfidf = TfidfVectorizer(lowercase=False,\r\n",
        "                        tokenizer=tokenizer_porter)\r\n",
        "clf = Pipeline([('vect', tfidf),\r\n",
        "                ('clf', LogisticRegression(multi_class='ovr', random_state=0))])\r\n",
        "\r\n",
        "clf.fit(x_train, y_train)\r\n",
        "\r\n",
        "predictions = clf.predict(x_test)\r\n",
        "print('Accuracy:',accuracy_score(y_test,predictions))"
      ],
      "execution_count": 158,
      "outputs": [
        {
          "output_type": "stream",
          "text": [
            "Accuracy: 0.619712261112304\n"
          ],
          "name": "stdout"
        }
      ]
    },
    {
      "cell_type": "code",
      "metadata": {
        "colab": {
          "base_uri": "https://localhost:8080/"
        },
        "id": "5mXgVQpDoRRo",
        "outputId": "44aaa6e0-c108-4d5b-ad26-66f3e9a96a12"
      },
      "source": [
        "from sklearn.model_selection import train_test_split\r\n",
        "x_train, x_test, y_train, y_test = train_test_split(x, y, test_size=0.3, random_state=42)\r\n",
        "\r\n",
        "from sklearn.svm import SVC\r\n",
        "\r\n",
        "tfidf = TfidfVectorizer(lowercase=False,\r\n",
        "                        tokenizer=tokenizer_porter)\r\n",
        "clf = Pipeline([('vect', tfidf),\r\n",
        "                ('clf', SVC(kernel = 'linear'))])\r\n",
        "\r\n",
        "clf.fit(x_train, y_train)\r\n",
        "\r\n",
        "predictions = clf.predict(x_test)\r\n",
        "print('Accuracy:',accuracy_score(y_test,predictions))"
      ],
      "execution_count": 159,
      "outputs": [
        {
          "output_type": "stream",
          "text": [
            "Accuracy: 0.619712261112304\n"
          ],
          "name": "stdout"
        }
      ]
    },
    {
      "cell_type": "code",
      "metadata": {
        "colab": {
          "base_uri": "https://localhost:8080/"
        },
        "id": "_UBwQQsUoxtT",
        "outputId": "2eaa4648-5971-40e5-c873-5c951336150a"
      },
      "source": [
        "from sklearn.model_selection import train_test_split\r\n",
        "x_train, x_test, y_train, y_test = train_test_split(x, y, test_size=0.3, random_state=42)\r\n",
        "\r\n",
        "from sklearn.ensemble import RandomForestClassifier\r\n",
        "\r\n",
        "n = range (1,100,10)\r\n",
        "\r\n",
        "tfidf = TfidfVectorizer(lowercase=False,\r\n",
        "                        tokenizer=tokenizer_porter)\r\n",
        "clf = Pipeline([('vect', tfidf),\r\n",
        "                ('clf', RandomForestClassifier(n_estimators = 40, random_state=0))])\r\n",
        "\r\n",
        "clf.fit(x_train, y_train)\r\n",
        "\r\n",
        "predictions = clf.predict(x_test)\r\n",
        "print('Accuracy:',accuracy_score(y_test,predictions))"
      ],
      "execution_count": 160,
      "outputs": [
        {
          "output_type": "stream",
          "text": [
            "Accuracy: 0.6001717844105647\n"
          ],
          "name": "stdout"
        }
      ]
    }
  ]
}